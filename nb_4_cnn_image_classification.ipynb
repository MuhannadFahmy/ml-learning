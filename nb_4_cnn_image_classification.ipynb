{
 "cells": [
  {
   "cell_type": "code",
   "execution_count": 1,
   "metadata": {},
   "outputs": [],
   "source": [
    "import tensorflow as tf\n",
    "from tensorflow import keras\n",
    "import matplotlib.pyplot as plt\n",
    "import numpy as np"
   ]
  },
  {
   "cell_type": "code",
   "execution_count": 3,
   "metadata": {},
   "outputs": [],
   "source": [
    "(X_train, y_train), (X_test,y_test) = keras.datasets.cifar10.load_data()"
   ]
  },
  {
   "cell_type": "code",
   "execution_count": 4,
   "metadata": {},
   "outputs": [
    {
     "name": "stdout",
     "output_type": "stream",
     "text": [
      "X shape (50000, 32, 32, 3)\n",
      "y shape (50000, 1)\n"
     ]
    }
   ],
   "source": [
    "print(f'X shape {X_train.shape}')\n",
    "print(f'y shape {y_train.shape}')"
   ]
  },
  {
   "cell_type": "code",
   "execution_count": 5,
   "metadata": {},
   "outputs": [],
   "source": [
    "y_train = y_train.reshape(-1,)\n",
    "y_test = y_test.reshape(-1,)"
   ]
  },
  {
   "cell_type": "code",
   "execution_count": 6,
   "metadata": {},
   "outputs": [],
   "source": [
    "classes = [\"airplane\",\"automobile\",\"bird\",\"cat\",\"deer\",\"dog\",\"frog\",\"horse\",\"ship\",\"truck\"]"
   ]
  },
  {
   "cell_type": "code",
   "execution_count": 7,
   "metadata": {},
   "outputs": [],
   "source": [
    "def show(dx, dy, index):\n",
    "    plt.figure(figsize = (15,2))\n",
    "    plt.imshow(dx[index])\n",
    "    plt.xlabel(classes[dy[index]])"
   ]
  },
  {
   "cell_type": "code",
   "execution_count": 8,
   "metadata": {},
   "outputs": [],
   "source": [
    "# Normalizing the data\n",
    "X_train = X_train / 255.0\n",
    "X_test = X_test / 255.0"
   ]
  },
  {
   "cell_type": "code",
   "execution_count": 12,
   "metadata": {},
   "outputs": [
    {
     "name": "stdout",
     "output_type": "stream",
     "text": [
      "Epoch 1/5\n",
      "1563/1563 [==============================] - 4s 2ms/step - loss: 1.8139 - accuracy: 0.3557\n",
      "Epoch 2/5\n",
      "1563/1563 [==============================] - 4s 2ms/step - loss: 1.6215 - accuracy: 0.4276\n",
      "Epoch 3/5\n",
      "1563/1563 [==============================] - 3s 2ms/step - loss: 1.5401 - accuracy: 0.4563\n",
      "Epoch 4/5\n",
      "1563/1563 [==============================] - 3s 2ms/step - loss: 1.4823 - accuracy: 0.4790\n",
      "Epoch 5/5\n",
      "1563/1563 [==============================] - 3s 2ms/step - loss: 1.4340 - accuracy: 0.4933\n"
     ]
    },
    {
     "data": {
      "text/plain": [
       "<keras.callbacks.History at 0x22461ac3310>"
      ]
     },
     "execution_count": 12,
     "metadata": {},
     "output_type": "execute_result"
    }
   ],
   "source": [
    "# simple ann model\n",
    "\n",
    "input_ann = keras.Input((32,32,3))\n",
    "\n",
    "h1to2_ann = keras.layers.Flatten() (input_ann)\n",
    "h2to3_ann = keras.layers.Dense(3000, activation='relu') (h1to2_ann)\n",
    "h3to4_ann = keras.layers.Dense(1000, activation='relu') (h2to3_ann)\n",
    "\n",
    "output_ann = keras.layers.Dense(10, activation='softmax') (h3to4_ann)\n",
    "\n",
    "model_ann = keras.Model(input_ann, output_ann)\n",
    "\n",
    "model_ann.compile(optimizer='SGD',\n",
    "                 loss='sparse_categorical_crossentropy',\n",
    "                 metrics=['accuracy'])\n",
    "\n",
    "model_ann.fit(X_train, y_train, epochs=5)"
   ]
  },
  {
   "cell_type": "code",
   "execution_count": 13,
   "metadata": {},
   "outputs": [
    {
     "name": "stdout",
     "output_type": "stream",
     "text": [
      "313/313 [==============================] - 1s 2ms/step - loss: 1.4966 - accuracy: 0.4658\n"
     ]
    },
    {
     "data": {
      "text/plain": [
       "[1.4966373443603516, 0.4657999873161316]"
      ]
     },
     "execution_count": 13,
     "metadata": {},
     "output_type": "execute_result"
    }
   ],
   "source": [
    "model_ann.evaluate(X_test, y_test)"
   ]
  },
  {
   "cell_type": "code",
   "execution_count": 14,
   "metadata": {},
   "outputs": [
    {
     "name": "stdout",
     "output_type": "stream",
     "text": [
      "313/313 [==============================] - 1s 2ms/step\n",
      "Classification Report: \n",
      "               precision    recall  f1-score   support\n",
      "\n",
      "           0       0.49      0.63      0.55      1000\n",
      "           1       0.79      0.29      0.42      1000\n",
      "           2       0.30      0.53      0.38      1000\n",
      "           3       0.41      0.25      0.31      1000\n",
      "           4       0.39      0.45      0.42      1000\n",
      "           5       0.53      0.22      0.31      1000\n",
      "           6       0.58      0.38      0.46      1000\n",
      "           7       0.52      0.56      0.54      1000\n",
      "           8       0.58      0.62      0.60      1000\n",
      "           9       0.46      0.72      0.56      1000\n",
      "\n",
      "    accuracy                           0.47     10000\n",
      "   macro avg       0.50      0.47      0.46     10000\n",
      "weighted avg       0.50      0.47      0.46     10000\n",
      "\n"
     ]
    }
   ],
   "source": [
    "from sklearn.metrics import confusion_matrix , classification_report\n",
    "y_pred_ann = model_ann.predict(X_test)\n",
    "y_pred_ann_classes = [np.argmax(element) for element in y_pred_ann]\n",
    "\n",
    "print(\"Classification Report: \\n\", classification_report(y_test, y_pred_ann_classes))"
   ]
  },
  {
   "cell_type": "code",
   "execution_count": 22,
   "metadata": {},
   "outputs": [
    {
     "name": "stdout",
     "output_type": "stream",
     "text": [
      "Epoch 1/10\n",
      "1563/1563 [==============================] - 5s 3ms/step - loss: 1.4521 - accuracy: 0.4788\n",
      "Epoch 2/10\n",
      "1563/1563 [==============================] - 4s 3ms/step - loss: 1.0996 - accuracy: 0.6159\n",
      "Epoch 3/10\n",
      "1563/1563 [==============================] - 4s 3ms/step - loss: 0.9677 - accuracy: 0.6640\n",
      "Epoch 4/10\n",
      "1563/1563 [==============================] - 4s 3ms/step - loss: 0.8828 - accuracy: 0.6948\n",
      "Epoch 5/10\n",
      "1563/1563 [==============================] - 4s 3ms/step - loss: 0.8129 - accuracy: 0.7187\n",
      "Epoch 6/10\n",
      "1563/1563 [==============================] - 4s 3ms/step - loss: 0.7568 - accuracy: 0.7377\n",
      "Epoch 7/10\n",
      "1563/1563 [==============================] - 4s 3ms/step - loss: 0.7115 - accuracy: 0.7525\n",
      "Epoch 8/10\n",
      "1563/1563 [==============================] - 4s 3ms/step - loss: 0.6676 - accuracy: 0.7681\n",
      "Epoch 9/10\n",
      "1563/1563 [==============================] - 4s 3ms/step - loss: 0.6288 - accuracy: 0.7813\n",
      "Epoch 10/10\n",
      "1563/1563 [==============================] - 4s 3ms/step - loss: 0.5885 - accuracy: 0.7946\n"
     ]
    },
    {
     "data": {
      "text/plain": [
       "<keras.callbacks.History at 0x2260f9b3490>"
      ]
     },
     "execution_count": 22,
     "metadata": {},
     "output_type": "execute_result"
    }
   ],
   "source": [
    "input_cnn = keras.Input((32,32,3))\n",
    "\n",
    "# cnn\n",
    "h1to2_cnn = keras.layers.Conv2D(filters= 32, kernel_size=(3,3), activation='relu')(input_cnn)\n",
    "h2to3_cnn = keras.layers.MaxPooling2D((2,2))(h1to2_cnn)\n",
    "h3to4_cnn = keras.layers.Conv2D(filters= 64, kernel_size=(3,3), activation='relu')(h2to3_cnn)\n",
    "h4to5_cnn = keras.layers.MaxPooling2D((2,2))(h3to4_cnn)\n",
    "\n",
    "#dense\n",
    "h5to6_cnn = keras.layers.Flatten()(h4to5_cnn)\n",
    "h6to7_ann = keras.layers.Dense(64, activation='relu') (h5to6_cnn)\n",
    "\n",
    "\n",
    "output_cnn = keras.layers.Dense(10, activation='softmax') (h6to7_ann)\n",
    "\n",
    "\n",
    "model_cnn = keras.Model(input_cnn, output_cnn)\n",
    "\n",
    "model_cnn.compile(optimizer='adam',\n",
    "                 loss='sparse_categorical_crossentropy',\n",
    "                 metrics=['accuracy'])\n",
    "\n",
    "model_cnn.fit(X_train, y_train, epochs=10)\n"
   ]
  },
  {
   "cell_type": "code",
   "execution_count": 23,
   "metadata": {},
   "outputs": [
    {
     "name": "stdout",
     "output_type": "stream",
     "text": [
      "313/313 [==============================] - 1s 3ms/step - loss: 0.9327 - accuracy: 0.7002\n"
     ]
    },
    {
     "data": {
      "text/plain": [
       "[0.9327009916305542, 0.7002000212669373]"
      ]
     },
     "execution_count": 23,
     "metadata": {},
     "output_type": "execute_result"
    }
   ],
   "source": [
    "model_cnn.evaluate(X_test,y_test)"
   ]
  },
  {
   "cell_type": "code",
   "execution_count": 24,
   "metadata": {},
   "outputs": [
    {
     "name": "stdout",
     "output_type": "stream",
     "text": [
      "313/313 [==============================] - 1s 2ms/step\n"
     ]
    }
   ],
   "source": [
    "y_pred_cnn = model_cnn.predict(X_test)\n",
    "y_pred_cnn_classes = [np.argmax(element) for element in y_pred_cnn]"
   ]
  },
  {
   "cell_type": "code",
   "execution_count": 25,
   "metadata": {},
   "outputs": [
    {
     "data": {
      "text/plain": [
       "array([3, 8, 8, 0, 6], dtype=uint8)"
      ]
     },
     "execution_count": 25,
     "metadata": {},
     "output_type": "execute_result"
    }
   ],
   "source": [
    "y_test[:5]"
   ]
  },
  {
   "cell_type": "code",
   "execution_count": 26,
   "metadata": {},
   "outputs": [
    {
     "data": {
      "text/plain": [
       "[3, 8, 8, 0, 6]"
      ]
     },
     "execution_count": 26,
     "metadata": {},
     "output_type": "execute_result"
    }
   ],
   "source": [
    "y_pred_cnn_classes[:5]"
   ]
  },
  {
   "cell_type": "code",
   "execution_count": 27,
   "metadata": {},
   "outputs": [
    {
     "name": "stdout",
     "output_type": "stream",
     "text": [
      "Classification Report: \n",
      "               precision    recall  f1-score   support\n",
      "\n",
      "           0       0.63      0.83      0.71      1000\n",
      "           1       0.82      0.81      0.81      1000\n",
      "           2       0.65      0.56      0.60      1000\n",
      "           3       0.49      0.57      0.53      1000\n",
      "           4       0.69      0.61      0.64      1000\n",
      "           5       0.68      0.52      0.59      1000\n",
      "           6       0.77      0.77      0.77      1000\n",
      "           7       0.81      0.72      0.76      1000\n",
      "           8       0.82      0.80      0.81      1000\n",
      "           9       0.72      0.83      0.77      1000\n",
      "\n",
      "    accuracy                           0.70     10000\n",
      "   macro avg       0.71      0.70      0.70     10000\n",
      "weighted avg       0.71      0.70      0.70     10000\n",
      "\n"
     ]
    }
   ],
   "source": [
    "print(\"Classification Report: \\n\", classification_report(y_test, y_pred_cnn_classes))"
   ]
  },
  {
   "cell_type": "code",
   "execution_count": null,
   "metadata": {},
   "outputs": [],
   "source": []
  }
 ],
 "metadata": {
  "kernelspec": {
   "display_name": "ml_tf_gpu",
   "language": "python",
   "name": "python3"
  },
  "language_info": {
   "codemirror_mode": {
    "name": "ipython",
    "version": 3
   },
   "file_extension": ".py",
   "mimetype": "text/x-python",
   "name": "python",
   "nbconvert_exporter": "python",
   "pygments_lexer": "ipython3",
   "version": "3.9.20"
  }
 },
 "nbformat": 4,
 "nbformat_minor": 2
}
